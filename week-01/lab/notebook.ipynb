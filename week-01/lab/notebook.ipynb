{
 "cells": [
  {
   "cell_type": "code",
   "execution_count": 2,
   "metadata": {},
   "outputs": [],
   "source": [
    "library(SDSFoundations,lib.loc = 'C:\\\\Program Files\\\\R\\\\R-3.6.1\\\\library')"
   ]
  },
  {
   "cell_type": "code",
   "execution_count": 3,
   "metadata": {},
   "outputs": [],
   "source": [
    "ss <- StudentSurvey"
   ]
  },
  {
   "cell_type": "code",
   "execution_count": 4,
   "metadata": {},
   "outputs": [
    {
     "name": "stdout",
     "output_type": "stream",
     "text": [
      "'data.frame':\t379 obs. of  17 variables:\n",
      " $ ID            : int  1 2 3 4 5 6 7 8 9 10 ...\n",
      " $ gender        : Factor w/ 2 levels \"Female\",\"Male\": 2 1 1 2 1 1 1 1 1 1 ...\n",
      " $ age           : int  17 19 18 19 19 19 18 18 19 19 ...\n",
      " $ classification: Factor w/ 5 levels \"Freshman\",\"Junior\",..: 1 5 1 5 5 5 1 1 5 5 ...\n",
      " $ name_letters  : int  4 8 6 4 7 5 5 8 8 5 ...\n",
      " $ happy         : int  80 76 50 75 89 90 57 60 75 100 ...\n",
      " $ concerts      : int  2 15 3 0 1 1 0 0 1 4 ...\n",
      " $ hair_color    : Factor w/ 4 levels \"black\",\"blond\",..: 1 1 3 1 3 1 1 3 1 1 ...\n",
      " $ own_shoes     : int  108 42 6 10 13 12 12 6 15 25 ...\n",
      " $ greek         : Factor w/ 2 levels \"no\",\"yes\": 2 1 1 2 1 2 1 1 1 1 ...\n",
      " $ live_campus   : Factor w/ 2 levels \"no\",\"yes\": 2 1 2 1 1 1 2 2 2 1 ...\n",
      " $ roomates      : int  1 1 1 1 2 3 1 1 1 3 ...\n",
      " $ austin        : num  10 10 10 8 9 10 7 8 8 8 ...\n",
      " $ birth_month   : int  11 12 11 5 5 12 8 9 6 3 ...\n",
      " $ commute       : Factor w/ 6 levels \"bicycle\",\"bus\",..: 6 3 6 2 2 6 6 2 6 6 ...\n",
      " $ car           : Factor w/ 2 levels \"no\",\"yes\": 1 1 1 1 1 2 1 1 2 2 ...\n",
      " $ sport         : Factor w/ 2 levels \"no\",\"yes\": 2 1 1 1 1 1 1 1 1 2 ...\n"
     ]
    }
   ],
   "source": [
    "str(ss)"
   ]
  },
  {
   "cell_type": "markdown",
   "metadata": {},
   "source": [
    "# Primary Research Question\n",
    "What percentage of the time are college students happy?  How does our estimate of the true mean change as sample size increases?"
   ]
  },
  {
   "cell_type": "code",
   "execution_count": 5,
   "metadata": {},
   "outputs": [
    {
     "data": {
      "text/html": [
       "<ol class=list-inline>\n",
       "\t<li>0</li>\n",
       "\t<li>70</li>\n",
       "\t<li>80</li>\n",
       "\t<li>90</li>\n",
       "\t<li>100</li>\n",
       "</ol>\n"
      ],
      "text/latex": [
       "\\begin{enumerate*}\n",
       "\\item 0\n",
       "\\item 70\n",
       "\\item 80\n",
       "\\item 90\n",
       "\\item 100\n",
       "\\end{enumerate*}\n"
      ],
      "text/markdown": [
       "1. 0\n",
       "2. 70\n",
       "3. 80\n",
       "4. 90\n",
       "5. 100\n",
       "\n",
       "\n"
      ],
      "text/plain": [
       "[1]   0  70  80  90 100"
      ]
     },
     "metadata": {},
     "output_type": "display_data"
    },
    {
     "data": {
      "text/html": [
       "78.0343007915567"
      ],
      "text/latex": [
       "78.0343007915567"
      ],
      "text/markdown": [
       "78.0343007915567"
      ],
      "text/plain": [
       "[1] 78.0343"
      ]
     },
     "metadata": {},
     "output_type": "display_data"
    },
    {
     "data": {
      "text/html": [
       "16.309064744182"
      ],
      "text/latex": [
       "16.309064744182"
      ],
      "text/markdown": [
       "16.309064744182"
      ],
      "text/plain": [
       "[1] 16.30906"
      ]
     },
     "metadata": {},
     "output_type": "display_data"
    }
   ],
   "source": [
    "fivenum(ss$happy)\n",
    "mean(ss$happy)\n",
    "sd(ss$happy)"
   ]
  },
  {
   "cell_type": "code",
   "execution_count": 18,
   "metadata": {},
   "outputs": [
    {
     "data": {
      "image/png": "[encoded data removed]",
      "text/plain": [
       "Plot with title \"Histogram of ss$happy\""
      ]
     },
     "metadata": {},
     "output_type": "display_data"
    }
   ],
   "source": [
    "hist(ss$happy,breaks = 20)"
   ]
  },
  {
   "cell_type": "markdown",
   "metadata": {},
   "source": [
    "## Function for sample of **size n** and its mean"
   ]
  },
  {
   "cell_type": "code",
   "execution_count": 22,
   "metadata": {},
   "outputs": [],
   "source": [
    "n_sample <- function(sample_size,n){\n",
    "    arr <- rep(NA,sample_size)\n",
    "    for (i in 1:1000){\n",
    "        arr[i] <- mean(sample(ss$happy,size = n))\n",
    "    }\n",
    "    return(arr)\n",
    "}"
   ]
  },
  {
   "cell_type": "code",
   "execution_count": 23,
   "metadata": {},
   "outputs": [
    {
     "data": {
      "text/html": [
       "'MEAN -&gt; 78.261600'"
      ],
      "text/latex": [
       "'MEAN -> 78.261600'"
      ],
      "text/markdown": [
       "'MEAN -&gt; 78.261600'"
      ],
      "text/plain": [
       "[1] \"MEAN -> 78.261600\""
      ]
     },
     "metadata": {},
     "output_type": "display_data"
    },
    {
     "data": {
      "text/html": [
       "'STANDARD DEVIATION -&gt; 7.354355'"
      ],
      "text/latex": [
       "'STANDARD DEVIATION -> 7.354355'"
      ],
      "text/markdown": [
       "'STANDARD DEVIATION -&gt; 7.354355'"
      ],
      "text/plain": [
       "[1] \"STANDARD DEVIATION -> 7.354355\""
      ]
     },
     "metadata": {},
     "output_type": "display_data"
    },
    {
     "data": {
      "text/html": [
       "'STANDARD ERROR -&gt; 7.293635'"
      ],
      "text/latex": [
       "'STANDARD ERROR -> 7.293635'"
      ],
      "text/markdown": [
       "'STANDARD ERROR -&gt; 7.293635'"
      ],
      "text/plain": [
       "[1] \"STANDARD ERROR -> 7.293635\""
      ]
     },
     "metadata": {},
     "output_type": "display_data"
    },
    {
     "data": {
      "image/png": "[encoded data removed]",
      "text/plain": [
       "Plot with title \"Histogram of s5\""
      ]
     },
     "metadata": {},
     "output_type": "display_data"
    }
   ],
   "source": [
    "s5 <- n_sample(1000,5)\n",
    "sprintf('MEAN -> %f', mean(s5))\n",
    "sprintf('STANDARD DEVIATION -> %f', sd(s5))\n",
    "sprintf('STANDARD ERROR -> %f', sd(ss$happy)/sqrt(5))\n",
    "hist(s5,breaks = 20)"
   ]
  },
  {
   "cell_type": "code",
   "execution_count": 24,
   "metadata": {},
   "outputs": [
    {
     "data": {
      "text/html": [
       "'MEAN -&gt; 78.171600'"
      ],
      "text/latex": [
       "'MEAN -> 78.171600'"
      ],
      "text/markdown": [
       "'MEAN -&gt; 78.171600'"
      ],
      "text/plain": [
       "[1] \"MEAN -> 78.171600\""
      ]
     },
     "metadata": {},
     "output_type": "display_data"
    },
    {
     "data": {
      "text/html": [
       "'STANDARD DEVIATION -&gt; 4.112378'"
      ],
      "text/latex": [
       "'STANDARD DEVIATION -> 4.112378'"
      ],
      "text/markdown": [
       "'STANDARD DEVIATION -&gt; 4.112378'"
      ],
      "text/plain": [
       "[1] \"STANDARD DEVIATION -> 4.112378\""
      ]
     },
     "metadata": {},
     "output_type": "display_data"
    },
    {
     "data": {
      "text/html": [
       "'STANDARD ERROR -&gt; 4.210982'"
      ],
      "text/latex": [
       "'STANDARD ERROR -> 4.210982'"
      ],
      "text/markdown": [
       "'STANDARD ERROR -&gt; 4.210982'"
      ],
      "text/plain": [
       "[1] \"STANDARD ERROR -> 4.210982\""
      ]
     },
     "metadata": {},
     "output_type": "display_data"
    },
    {
     "data": {
      "image/png": "[encoded data removed]",
      "text/plain": [
       "Plot with title \"Histogram of s15\""
      ]
     },
     "metadata": {},
     "output_type": "display_data"
    }
   ],
   "source": [
    "s15 <- n_sample(1000,15)\n",
    "sprintf('MEAN -> %f', mean(s15))\n",
    "sprintf('STANDARD DEVIATION -> %f', sd(s15))\n",
    "sprintf('STANDARD ERROR -> %f', sd(ss$happy)/sqrt(15))\n",
    "hist(s15,breaks = 20)"
   ]
  },
  {
   "cell_type": "code",
   "execution_count": 25,
   "metadata": {},
   "outputs": [
    {
     "data": {
      "text/html": [
       "'MEAN -&gt; 78.049680'"
      ],
      "text/latex": [
       "'MEAN -> 78.049680'"
      ],
      "text/markdown": [
       "'MEAN -&gt; 78.049680'"
      ],
      "text/plain": [
       "[1] \"MEAN -> 78.049680\""
      ]
     },
     "metadata": {},
     "output_type": "display_data"
    },
    {
     "data": {
      "text/html": [
       "'STANDARD DEVIATION -&gt; 3.104073'"
      ],
      "text/latex": [
       "'STANDARD DEVIATION -> 3.104073'"
      ],
      "text/markdown": [
       "'STANDARD DEVIATION -&gt; 3.104073'"
      ],
      "text/plain": [
       "[1] \"STANDARD DEVIATION -> 3.104073\""
      ]
     },
     "metadata": {},
     "output_type": "display_data"
    },
    {
     "data": {
      "text/html": [
       "'STANDARD ERROR -&gt; 3.261813'"
      ],
      "text/latex": [
       "'STANDARD ERROR -> 3.261813'"
      ],
      "text/markdown": [
       "'STANDARD ERROR -&gt; 3.261813'"
      ],
      "text/plain": [
       "[1] \"STANDARD ERROR -> 3.261813\""
      ]
     },
     "metadata": {},
     "output_type": "display_data"
    },
    {
     "data": {
      "image/png": "[encoded data removed]",
      "text/plain": [
       "Plot with title \"Histogram of s25\""
      ]
     },
     "metadata": {},
     "output_type": "display_data"
    }
   ],
   "source": [
    "s25 <- n_sample(1000,25)\n",
    "sprintf('MEAN -> %f', mean(s25))\n",
    "sprintf('STANDARD DEVIATION -> %f', sd(s25))\n",
    "sprintf('STANDARD ERROR -> %f', sd(ss$happy)/sqrt(25))\n",
    "hist(s25,breaks = 20)"
   ]
  },
  {
   "cell_type": "code",
   "execution_count": null,
   "metadata": {},
   "outputs": [],
   "source": []
  }
 ],
 "metadata": {
  "kernelspec": {
   "display_name": "R",
   "language": "R",
   "name": "ir"
  },
  "language_info": {
   "codemirror_mode": "r",
   "file_extension": ".r",
   "mimetype": "text/x-r-source",
   "name": "R",
   "pygments_lexer": "r",
   "version": "3.6.1"
  }
 },
 "nbformat": 4,
 "nbformat_minor": 4
}
