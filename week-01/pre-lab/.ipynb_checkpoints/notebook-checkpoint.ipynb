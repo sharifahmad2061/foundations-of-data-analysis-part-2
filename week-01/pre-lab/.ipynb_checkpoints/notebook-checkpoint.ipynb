{
 "cells": [
  {
   "cell_type": "markdown",
   "metadata": {},
   "source": [
    "### Import Stuff"
   ]
  },
  {
   "cell_type": "code",
   "execution_count": 1,
   "metadata": {},
   "outputs": [],
   "source": [
    "library(SDSFoundations,lib.loc = 'C:\\\\Program Files\\\\R\\\\R-3.6.1\\\\library')"
   ]
  },
  {
   "cell_type": "markdown",
   "metadata": {},
   "source": [
    "## Primary Research Question\n",
    "How many letters long is the typical UT student’s name?  \n",
    "How does our estimate change as we increase the size of our sample?"
   ]
  },
  {
   "cell_type": "code",
   "execution_count": 2,
   "metadata": {},
   "outputs": [],
   "source": [
    "survey <- StudentSurvey"
   ]
  },
  {
   "cell_type": "code",
   "execution_count": 4,
   "metadata": {},
   "outputs": [
    {
     "name": "stdout",
     "output_type": "stream",
     "text": [
      "'data.frame':\t379 obs. of  17 variables:\n",
      " $ ID            : int  1 2 3 4 5 6 7 8 9 10 ...\n",
      " $ gender        : Factor w/ 2 levels \"Female\",\"Male\": 2 1 1 2 1 1 1 1 1 1 ...\n",
      " $ age           : int  17 19 18 19 19 19 18 18 19 19 ...\n",
      " $ classification: Factor w/ 5 levels \"Freshman\",\"Junior\",..: 1 5 1 5 5 5 1 1 5 5 ...\n",
      " $ name_letters  : int  4 8 6 4 7 5 5 8 8 5 ...\n",
      " $ happy         : int  80 76 50 75 89 90 57 60 75 100 ...\n",
      " $ concerts      : int  2 15 3 0 1 1 0 0 1 4 ...\n",
      " $ hair_color    : Factor w/ 4 levels \"black\",\"blond\",..: 1 1 3 1 3 1 1 3 1 1 ...\n",
      " $ own_shoes     : int  108 42 6 10 13 12 12 6 15 25 ...\n",
      " $ greek         : Factor w/ 2 levels \"no\",\"yes\": 2 1 1 2 1 2 1 1 1 1 ...\n",
      " $ live_campus   : Factor w/ 2 levels \"no\",\"yes\": 2 1 2 1 1 1 2 2 2 1 ...\n",
      " $ roomates      : int  1 1 1 1 2 3 1 1 1 3 ...\n",
      " $ austin        : num  10 10 10 8 9 10 7 8 8 8 ...\n",
      " $ birth_month   : int  11 12 11 5 5 12 8 9 6 3 ...\n",
      " $ commute       : Factor w/ 6 levels \"bicycle\",\"bus\",..: 6 3 6 2 2 6 6 2 6 6 ...\n",
      " $ car           : Factor w/ 2 levels \"no\",\"yes\": 1 1 1 1 1 2 1 1 2 2 ...\n",
      " $ sport         : Factor w/ 2 levels \"no\",\"yes\": 2 1 1 1 1 1 1 1 1 2 ...\n"
     ]
    }
   ],
   "source": [
    "str(survey)"
   ]
  },
  {
   "cell_type": "markdown",
   "metadata": {},
   "source": [
    "---\n",
    "How many of the first 10 students in the dataset had names longer than 5 letters?"
   ]
  },
  {
   "cell_type": "code",
   "execution_count": 7,
   "metadata": {},
   "outputs": [
    {
     "data": {
      "text/html": [
       "<table>\n",
       "<caption>A data.frame: 5 × 17</caption>\n",
       "<thead>\n",
       "\t<tr><th></th><th scope=col>ID</th><th scope=col>gender</th><th scope=col>age</th><th scope=col>classification</th><th scope=col>name_letters</th><th scope=col>happy</th><th scope=col>concerts</th><th scope=col>hair_color</th><th scope=col>own_shoes</th><th scope=col>greek</th><th scope=col>live_campus</th><th scope=col>roomates</th><th scope=col>austin</th><th scope=col>birth_month</th><th scope=col>commute</th><th scope=col>car</th><th scope=col>sport</th></tr>\n",
       "\t<tr><th></th><th scope=col>&lt;int&gt;</th><th scope=col>&lt;fct&gt;</th><th scope=col>&lt;int&gt;</th><th scope=col>&lt;fct&gt;</th><th scope=col>&lt;int&gt;</th><th scope=col>&lt;int&gt;</th><th scope=col>&lt;int&gt;</th><th scope=col>&lt;fct&gt;</th><th scope=col>&lt;int&gt;</th><th scope=col>&lt;fct&gt;</th><th scope=col>&lt;fct&gt;</th><th scope=col>&lt;int&gt;</th><th scope=col>&lt;dbl&gt;</th><th scope=col>&lt;int&gt;</th><th scope=col>&lt;fct&gt;</th><th scope=col>&lt;fct&gt;</th><th scope=col>&lt;fct&gt;</th></tr>\n",
       "</thead>\n",
       "<tbody>\n",
       "\t<tr><th scope=row>2</th><td>2</td><td>Female</td><td>19</td><td>Sophomore</td><td>8</td><td>76</td><td>15</td><td>black</td><td>42</td><td>no</td><td>no </td><td>1</td><td>10</td><td>12</td><td>drive by myself</td><td>no </td><td>no</td></tr>\n",
       "\t<tr><th scope=row>3</th><td>3</td><td>Female</td><td>18</td><td>Freshman </td><td>6</td><td>50</td><td> 3</td><td>brown</td><td> 6</td><td>no</td><td>yes</td><td>1</td><td>10</td><td>11</td><td>walk           </td><td>no </td><td>no</td></tr>\n",
       "\t<tr><th scope=row>5</th><td>5</td><td>Female</td><td>19</td><td>Sophomore</td><td>7</td><td>89</td><td> 1</td><td>brown</td><td>13</td><td>no</td><td>no </td><td>2</td><td> 9</td><td> 5</td><td>bus            </td><td>no </td><td>no</td></tr>\n",
       "\t<tr><th scope=row>8</th><td>8</td><td>Female</td><td>18</td><td>Freshman </td><td>8</td><td>60</td><td> 0</td><td>brown</td><td> 6</td><td>no</td><td>yes</td><td>1</td><td> 8</td><td> 9</td><td>bus            </td><td>no </td><td>no</td></tr>\n",
       "\t<tr><th scope=row>9</th><td>9</td><td>Female</td><td>19</td><td>Sophomore</td><td>8</td><td>75</td><td> 1</td><td>black</td><td>15</td><td>no</td><td>yes</td><td>1</td><td> 8</td><td> 6</td><td>walk           </td><td>yes</td><td>no</td></tr>\n",
       "</tbody>\n",
       "</table>\n"
      ],
      "text/latex": [
       "A data.frame: 5 × 17\n",
       "\\begin{tabular}{r|lllllllllllllllll}\n",
       "  & ID & gender & age & classification & name\\_letters & happy & concerts & hair\\_color & own\\_shoes & greek & live\\_campus & roomates & austin & birth\\_month & commute & car & sport\\\\\n",
       "  & <int> & <fct> & <int> & <fct> & <int> & <int> & <int> & <fct> & <int> & <fct> & <fct> & <int> & <dbl> & <int> & <fct> & <fct> & <fct>\\\\\n",
       "\\hline\n",
       "\t2 & 2 & Female & 19 & Sophomore & 8 & 76 & 15 & black & 42 & no & no  & 1 & 10 & 12 & drive by myself & no  & no\\\\\n",
       "\t3 & 3 & Female & 18 & Freshman  & 6 & 50 &  3 & brown &  6 & no & yes & 1 & 10 & 11 & walk            & no  & no\\\\\n",
       "\t5 & 5 & Female & 19 & Sophomore & 7 & 89 &  1 & brown & 13 & no & no  & 2 &  9 &  5 & bus             & no  & no\\\\\n",
       "\t8 & 8 & Female & 18 & Freshman  & 8 & 60 &  0 & brown &  6 & no & yes & 1 &  8 &  9 & bus             & no  & no\\\\\n",
       "\t9 & 9 & Female & 19 & Sophomore & 8 & 75 &  1 & black & 15 & no & yes & 1 &  8 &  6 & walk            & yes & no\\\\\n",
       "\\end{tabular}\n"
      ],
      "text/markdown": [
       "\n",
       "A data.frame: 5 × 17\n",
       "\n",
       "| <!--/--> | ID &lt;int&gt; | gender &lt;fct&gt; | age &lt;int&gt; | classification &lt;fct&gt; | name_letters &lt;int&gt; | happy &lt;int&gt; | concerts &lt;int&gt; | hair_color &lt;fct&gt; | own_shoes &lt;int&gt; | greek &lt;fct&gt; | live_campus &lt;fct&gt; | roomates &lt;int&gt; | austin &lt;dbl&gt; | birth_month &lt;int&gt; | commute &lt;fct&gt; | car &lt;fct&gt; | sport &lt;fct&gt; |\n",
       "|---|---|---|---|---|---|---|---|---|---|---|---|---|---|---|---|---|---|\n",
       "| 2 | 2 | Female | 19 | Sophomore | 8 | 76 | 15 | black | 42 | no | no  | 1 | 10 | 12 | drive by myself | no  | no |\n",
       "| 3 | 3 | Female | 18 | Freshman  | 6 | 50 |  3 | brown |  6 | no | yes | 1 | 10 | 11 | walk            | no  | no |\n",
       "| 5 | 5 | Female | 19 | Sophomore | 7 | 89 |  1 | brown | 13 | no | no  | 2 |  9 |  5 | bus             | no  | no |\n",
       "| 8 | 8 | Female | 18 | Freshman  | 8 | 60 |  0 | brown |  6 | no | yes | 1 |  8 |  9 | bus             | no  | no |\n",
       "| 9 | 9 | Female | 19 | Sophomore | 8 | 75 |  1 | black | 15 | no | yes | 1 |  8 |  6 | walk            | yes | no |\n",
       "\n"
      ],
      "text/plain": [
       "  ID gender age classification name_letters happy concerts hair_color own_shoes\n",
       "2 2  Female 19  Sophomore      8            76    15       black      42       \n",
       "3 3  Female 18  Freshman       6            50     3       brown       6       \n",
       "5 5  Female 19  Sophomore      7            89     1       brown      13       \n",
       "8 8  Female 18  Freshman       8            60     0       brown       6       \n",
       "9 9  Female 19  Sophomore      8            75     1       black      15       \n",
       "  greek live_campus roomates austin birth_month commute         car sport\n",
       "2 no    no          1        10     12          drive by myself no  no   \n",
       "3 no    yes         1        10     11          walk            no  no   \n",
       "5 no    no          2         9      5          bus             no  no   \n",
       "8 no    yes         1         8      9          bus             no  no   \n",
       "9 no    yes         1         8      6          walk            yes no   "
      ]
     },
     "metadata": {},
     "output_type": "display_data"
    }
   ],
   "source": [
    "f10 <- head(survey,10)\n",
    "f10[f10$name_letters > 5,]"
   ]
  },
  {
   "cell_type": "markdown",
   "metadata": {},
   "source": [
    "---\n",
    "How long is the name of the first student in the dataset who is happy less than 40% of the time?"
   ]
  },
  {
   "cell_type": "code",
   "execution_count": 8,
   "metadata": {},
   "outputs": [
    {
     "data": {
      "text/html": [
       "<table>\n",
       "<caption>A data.frame: 9 × 17</caption>\n",
       "<thead>\n",
       "\t<tr><th></th><th scope=col>ID</th><th scope=col>gender</th><th scope=col>age</th><th scope=col>classification</th><th scope=col>name_letters</th><th scope=col>happy</th><th scope=col>concerts</th><th scope=col>hair_color</th><th scope=col>own_shoes</th><th scope=col>greek</th><th scope=col>live_campus</th><th scope=col>roomates</th><th scope=col>austin</th><th scope=col>birth_month</th><th scope=col>commute</th><th scope=col>car</th><th scope=col>sport</th></tr>\n",
       "\t<tr><th></th><th scope=col>&lt;int&gt;</th><th scope=col>&lt;fct&gt;</th><th scope=col>&lt;int&gt;</th><th scope=col>&lt;fct&gt;</th><th scope=col>&lt;int&gt;</th><th scope=col>&lt;int&gt;</th><th scope=col>&lt;int&gt;</th><th scope=col>&lt;fct&gt;</th><th scope=col>&lt;int&gt;</th><th scope=col>&lt;fct&gt;</th><th scope=col>&lt;fct&gt;</th><th scope=col>&lt;int&gt;</th><th scope=col>&lt;dbl&gt;</th><th scope=col>&lt;int&gt;</th><th scope=col>&lt;fct&gt;</th><th scope=col>&lt;fct&gt;</th><th scope=col>&lt;fct&gt;</th></tr>\n",
       "</thead>\n",
       "<tbody>\n",
       "\t<tr><th scope=row>11</th><td> 11</td><td>Male  </td><td>18</td><td>Junior   </td><td>7</td><td> 2</td><td>0</td><td>black</td><td> 5</td><td>no</td><td>no </td><td>1</td><td>4</td><td> 5</td><td>bus </td><td>no </td><td>yes</td></tr>\n",
       "\t<tr><th scope=row>28</th><td> 28</td><td>Female</td><td>19</td><td>Sophomore</td><td>4</td><td>35</td><td>0</td><td>black</td><td> 4</td><td>no</td><td>no </td><td>1</td><td>5</td><td> 7</td><td>walk</td><td>no </td><td>yes</td></tr>\n",
       "\t<tr><th scope=row>61</th><td> 61</td><td>Female</td><td>19</td><td>Freshman </td><td>5</td><td> 0</td><td>0</td><td>black</td><td> 6</td><td>no</td><td>yes</td><td>1</td><td>9</td><td> 9</td><td>walk</td><td>no </td><td>no </td></tr>\n",
       "\t<tr><th scope=row>75</th><td> 75</td><td>Male  </td><td>18</td><td>Freshman </td><td>5</td><td>20</td><td>0</td><td>black</td><td> 5</td><td>no</td><td>no </td><td>3</td><td>6</td><td>12</td><td>bus </td><td>no </td><td>no </td></tr>\n",
       "\t<tr><th scope=row>169</th><td>169</td><td>Female</td><td>18</td><td>Freshman </td><td>6</td><td>25</td><td>0</td><td>brown</td><td> 7</td><td>no</td><td>yes</td><td>1</td><td>7</td><td>12</td><td>walk</td><td>no </td><td>no </td></tr>\n",
       "\t<tr><th scope=row>232</th><td>232</td><td>Female</td><td>25</td><td>Junior   </td><td>8</td><td>30</td><td>0</td><td>black</td><td> 6</td><td>no</td><td>yes</td><td>0</td><td>7</td><td>11</td><td>walk</td><td>no </td><td>no </td></tr>\n",
       "\t<tr><th scope=row>324</th><td>324</td><td>Male  </td><td>24</td><td>Junior   </td><td>5</td><td>30</td><td>0</td><td>red  </td><td> 5</td><td>no</td><td>no </td><td>2</td><td>7</td><td>10</td><td>bus </td><td>yes</td><td>no </td></tr>\n",
       "\t<tr><th scope=row>374</th><td>374</td><td>Female</td><td>19</td><td>Sophomore</td><td>5</td><td>20</td><td>1</td><td>black</td><td>14</td><td>no</td><td>no </td><td>3</td><td>1</td><td> 3</td><td>walk</td><td>no </td><td>no </td></tr>\n",
       "\t<tr><th scope=row>378</th><td>378</td><td>Female</td><td>18</td><td>Freshman </td><td>4</td><td>20</td><td>0</td><td>brown</td><td>10</td><td>no</td><td>yes</td><td>1</td><td>8</td><td> 3</td><td>walk</td><td>no </td><td>no </td></tr>\n",
       "</tbody>\n",
       "</table>\n"
      ],
      "text/latex": [
       "A data.frame: 9 × 17\n",
       "\\begin{tabular}{r|lllllllllllllllll}\n",
       "  & ID & gender & age & classification & name\\_letters & happy & concerts & hair\\_color & own\\_shoes & greek & live\\_campus & roomates & austin & birth\\_month & commute & car & sport\\\\\n",
       "  & <int> & <fct> & <int> & <fct> & <int> & <int> & <int> & <fct> & <int> & <fct> & <fct> & <int> & <dbl> & <int> & <fct> & <fct> & <fct>\\\\\n",
       "\\hline\n",
       "\t11 &  11 & Male   & 18 & Junior    & 7 &  2 & 0 & black &  5 & no & no  & 1 & 4 &  5 & bus  & no  & yes\\\\\n",
       "\t28 &  28 & Female & 19 & Sophomore & 4 & 35 & 0 & black &  4 & no & no  & 1 & 5 &  7 & walk & no  & yes\\\\\n",
       "\t61 &  61 & Female & 19 & Freshman  & 5 &  0 & 0 & black &  6 & no & yes & 1 & 9 &  9 & walk & no  & no \\\\\n",
       "\t75 &  75 & Male   & 18 & Freshman  & 5 & 20 & 0 & black &  5 & no & no  & 3 & 6 & 12 & bus  & no  & no \\\\\n",
       "\t169 & 169 & Female & 18 & Freshman  & 6 & 25 & 0 & brown &  7 & no & yes & 1 & 7 & 12 & walk & no  & no \\\\\n",
       "\t232 & 232 & Female & 25 & Junior    & 8 & 30 & 0 & black &  6 & no & yes & 0 & 7 & 11 & walk & no  & no \\\\\n",
       "\t324 & 324 & Male   & 24 & Junior    & 5 & 30 & 0 & red   &  5 & no & no  & 2 & 7 & 10 & bus  & yes & no \\\\\n",
       "\t374 & 374 & Female & 19 & Sophomore & 5 & 20 & 1 & black & 14 & no & no  & 3 & 1 &  3 & walk & no  & no \\\\\n",
       "\t378 & 378 & Female & 18 & Freshman  & 4 & 20 & 0 & brown & 10 & no & yes & 1 & 8 &  3 & walk & no  & no \\\\\n",
       "\\end{tabular}\n"
      ],
      "text/markdown": [
       "\n",
       "A data.frame: 9 × 17\n",
       "\n",
       "| <!--/--> | ID &lt;int&gt; | gender &lt;fct&gt; | age &lt;int&gt; | classification &lt;fct&gt; | name_letters &lt;int&gt; | happy &lt;int&gt; | concerts &lt;int&gt; | hair_color &lt;fct&gt; | own_shoes &lt;int&gt; | greek &lt;fct&gt; | live_campus &lt;fct&gt; | roomates &lt;int&gt; | austin &lt;dbl&gt; | birth_month &lt;int&gt; | commute &lt;fct&gt; | car &lt;fct&gt; | sport &lt;fct&gt; |\n",
       "|---|---|---|---|---|---|---|---|---|---|---|---|---|---|---|---|---|---|\n",
       "| 11 |  11 | Male   | 18 | Junior    | 7 |  2 | 0 | black |  5 | no | no  | 1 | 4 |  5 | bus  | no  | yes |\n",
       "| 28 |  28 | Female | 19 | Sophomore | 4 | 35 | 0 | black |  4 | no | no  | 1 | 5 |  7 | walk | no  | yes |\n",
       "| 61 |  61 | Female | 19 | Freshman  | 5 |  0 | 0 | black |  6 | no | yes | 1 | 9 |  9 | walk | no  | no  |\n",
       "| 75 |  75 | Male   | 18 | Freshman  | 5 | 20 | 0 | black |  5 | no | no  | 3 | 6 | 12 | bus  | no  | no  |\n",
       "| 169 | 169 | Female | 18 | Freshman  | 6 | 25 | 0 | brown |  7 | no | yes | 1 | 7 | 12 | walk | no  | no  |\n",
       "| 232 | 232 | Female | 25 | Junior    | 8 | 30 | 0 | black |  6 | no | yes | 0 | 7 | 11 | walk | no  | no  |\n",
       "| 324 | 324 | Male   | 24 | Junior    | 5 | 30 | 0 | red   |  5 | no | no  | 2 | 7 | 10 | bus  | yes | no  |\n",
       "| 374 | 374 | Female | 19 | Sophomore | 5 | 20 | 1 | black | 14 | no | no  | 3 | 1 |  3 | walk | no  | no  |\n",
       "| 378 | 378 | Female | 18 | Freshman  | 4 | 20 | 0 | brown | 10 | no | yes | 1 | 8 |  3 | walk | no  | no  |\n",
       "\n"
      ],
      "text/plain": [
       "    ID  gender age classification name_letters happy concerts hair_color\n",
       "11   11 Male   18  Junior         7             2    0        black     \n",
       "28   28 Female 19  Sophomore      4            35    0        black     \n",
       "61   61 Female 19  Freshman       5             0    0        black     \n",
       "75   75 Male   18  Freshman       5            20    0        black     \n",
       "169 169 Female 18  Freshman       6            25    0        brown     \n",
       "232 232 Female 25  Junior         8            30    0        black     \n",
       "324 324 Male   24  Junior         5            30    0        red       \n",
       "374 374 Female 19  Sophomore      5            20    1        black     \n",
       "378 378 Female 18  Freshman       4            20    0        brown     \n",
       "    own_shoes greek live_campus roomates austin birth_month commute car sport\n",
       "11   5        no    no          1        4       5          bus     no  yes  \n",
       "28   4        no    no          1        5       7          walk    no  yes  \n",
       "61   6        no    yes         1        9       9          walk    no  no   \n",
       "75   5        no    no          3        6      12          bus     no  no   \n",
       "169  7        no    yes         1        7      12          walk    no  no   \n",
       "232  6        no    yes         0        7      11          walk    no  no   \n",
       "324  5        no    no          2        7      10          bus     yes no   \n",
       "374 14        no    no          3        1       3          walk    no  no   \n",
       "378 10        no    yes         1        8       3          walk    no  no   "
      ]
     },
     "metadata": {},
     "output_type": "display_data"
    }
   ],
   "source": [
    "survey[survey$happy < 40,]"
   ]
  },
  {
   "cell_type": "markdown",
   "metadata": {},
   "source": [
    "## Prepare for analysis"
   ]
  },
  {
   "cell_type": "code",
   "execution_count": 9,
   "metadata": {},
   "outputs": [
    {
     "data": {
      "image/png": "[encoded data removed]",
      "text/plain": [
       "Plot with title \"Histogram of survey$name_letters\""
      ]
     },
     "metadata": {},
     "output_type": "display_data"
    }
   ],
   "source": [
    "hist(survey$name_letters)"
   ]
  },
  {
   "cell_type": "code",
   "execution_count": 10,
   "metadata": {},
   "outputs": [
    {
     "data": {
      "text/html": [
       "5.97097625329815"
      ],
      "text/latex": [
       "5.97097625329815"
      ],
      "text/markdown": [
       "5.97097625329815"
      ],
      "text/plain": [
       "[1] 5.970976"
      ]
     },
     "metadata": {},
     "output_type": "display_data"
    },
    {
     "data": {
      "text/html": [
       "1.4948595683422"
      ],
      "text/latex": [
       "1.4948595683422"
      ],
      "text/markdown": [
       "1.4948595683422"
      ],
      "text/plain": [
       "[1] 1.49486"
      ]
     },
     "metadata": {},
     "output_type": "display_data"
    },
    {
     "data": {
      "text/html": [
       "<ol class=list-inline>\n",
       "\t<li>2</li>\n",
       "\t<li>5</li>\n",
       "\t<li>6</li>\n",
       "\t<li>7</li>\n",
       "\t<li>10</li>\n",
       "</ol>\n"
      ],
      "text/latex": [
       "\\begin{enumerate*}\n",
       "\\item 2\n",
       "\\item 5\n",
       "\\item 6\n",
       "\\item 7\n",
       "\\item 10\n",
       "\\end{enumerate*}\n"
      ],
      "text/markdown": [
       "1. 2\n",
       "2. 5\n",
       "3. 6\n",
       "4. 7\n",
       "5. 10\n",
       "\n",
       "\n"
      ],
      "text/plain": [
       "[1]  2  5  6  7 10"
      ]
     },
     "metadata": {},
     "output_type": "display_data"
    }
   ],
   "source": [
    "mean(survey$name_letters)\n",
    "sd(survey$name_letters)\n",
    "fivenum(survey$name_letters)"
   ]
  },
  {
   "cell_type": "code",
   "execution_count": 23,
   "metadata": {},
   "outputs": [
    {
     "data": {
      "text/html": [
       "5.97"
      ],
      "text/latex": [
       "5.97"
      ],
      "text/markdown": [
       "5.97"
      ],
      "text/plain": [
       "[1] 5.97"
      ]
     },
     "metadata": {},
     "output_type": "display_data"
    },
    {
     "data": {
      "text/html": [
       "1.49"
      ],
      "text/latex": [
       "1.49"
      ],
      "text/markdown": [
       "1.49"
      ],
      "text/plain": [
       "[1] 1.49"
      ]
     },
     "metadata": {},
     "output_type": "display_data"
    }
   ],
   "source": [
    "round(5.97097625329815,2)\n",
    "round(1.4948595683422,2)"
   ]
  },
  {
   "cell_type": "markdown",
   "metadata": {},
   "source": [
    "## Function for sample of **size n** and its mean"
   ]
  },
  {
   "cell_type": "code",
   "execution_count": 13,
   "metadata": {},
   "outputs": [],
   "source": [
    "n_sample <- function(sample_size,n){\n",
    "    arr <- rep(NA,sample_size)\n",
    "    for (i in 1:1000){\n",
    "        arr[i] <- mean(sample(survey$name_letters,size = n))\n",
    "    }\n",
    "    return(arr)\n",
    "}"
   ]
  },
  {
   "cell_type": "markdown",
   "metadata": {},
   "source": [
    "### Hist (sampling distribution) for size 5 sample."
   ]
  },
  {
   "cell_type": "code",
   "execution_count": 19,
   "metadata": {},
   "outputs": [
    {
     "data": {
      "text/html": [
       "5.9698"
      ],
      "text/latex": [
       "5.9698"
      ],
      "text/markdown": [
       "5.9698"
      ],
      "text/plain": [
       "[1] 5.9698"
      ]
     },
     "metadata": {},
     "output_type": "display_data"
    },
    {
     "data": {
      "text/html": [
       "0.6635421977902"
      ],
      "text/latex": [
       "0.6635421977902"
      ],
      "text/markdown": [
       "0.6635421977902"
      ],
      "text/plain": [
       "[1] 0.6635422"
      ]
     },
     "metadata": {},
     "output_type": "display_data"
    },
    {
     "data": {
      "image/png": "[encoded data removed]",
      "text/plain": [
       "Plot with title \"Histogram of s5\""
      ]
     },
     "metadata": {},
     "output_type": "display_data"
    }
   ],
   "source": [
    "s5 <- n_sample(1000,5)\n",
    "hist(s5)\n",
    "mean(s5)\n",
    "sd(s5)"
   ]
  },
  {
   "cell_type": "markdown",
   "metadata": {},
   "source": [
    "### Hist (sampling distribution) for size 15 sample."
   ]
  },
  {
   "cell_type": "code",
   "execution_count": 18,
   "metadata": {},
   "outputs": [
    {
     "data": {
      "text/html": [
       "5.97186666666667"
      ],
      "text/latex": [
       "5.97186666666667"
      ],
      "text/markdown": [
       "5.97186666666667"
      ],
      "text/plain": [
       "[1] 5.971867"
      ]
     },
     "metadata": {},
     "output_type": "display_data"
    },
    {
     "data": {
      "text/html": [
       "0.377193896073671"
      ],
      "text/latex": [
       "0.377193896073671"
      ],
      "text/markdown": [
       "0.377193896073671"
      ],
      "text/plain": [
       "[1] 0.3771939"
      ]
     },
     "metadata": {},
     "output_type": "display_data"
    },
    {
     "data": {
      "image/png": "[encoded data removed]",
      "text/plain": [
       "Plot with title \"Histogram of s15\""
      ]
     },
     "metadata": {},
     "output_type": "display_data"
    }
   ],
   "source": [
    "s15 <- n_sample(1000,15)\n",
    "hist(s15)\n",
    "mean(s15)\n",
    "sd(s15)"
   ]
  },
  {
   "cell_type": "markdown",
   "metadata": {},
   "source": [
    "### Hist (sampling distribution) for size 25 sample."
   ]
  },
  {
   "cell_type": "code",
   "execution_count": 17,
   "metadata": {},
   "outputs": [
    {
     "data": {
      "text/html": [
       "5.97112"
      ],
      "text/latex": [
       "5.97112"
      ],
      "text/markdown": [
       "5.97112"
      ],
      "text/plain": [
       "[1] 5.97112"
      ]
     },
     "metadata": {},
     "output_type": "display_data"
    },
    {
     "data": {
      "text/html": [
       "0.288773502482024"
      ],
      "text/latex": [
       "0.288773502482024"
      ],
      "text/markdown": [
       "0.288773502482024"
      ],
      "text/plain": [
       "[1] 0.2887735"
      ]
     },
     "metadata": {},
     "output_type": "display_data"
    },
    {
     "data": {
      "image/png": "[encoded data removed]",
      "text/plain": [
       "Plot with title \"Histogram of s25\""
      ]
     },
     "metadata": {},
     "output_type": "display_data"
    }
   ],
   "source": [
    "s25 <- n_sample(1000,25)\n",
    "hist(s25)\n",
    "mean(s25)\n",
    "sd(s25)"
   ]
  },
  {
   "cell_type": "code",
   "execution_count": 22,
   "metadata": {},
   "outputs": [
    {
     "data": {
      "image/png": "[encoded data removed]",
      "text/plain": [
       "Plot with title \"Histogram of xbar5\""
      ]
     },
     "metadata": {},
     "output_type": "display_data"
    }
   ],
   "source": [
    "xbar5 <-rep(NA, 1000)\n",
    "for (i in 1:1000){\n",
    "    x <-sample(survey$age, size =5)\n",
    "    xbar5[i] <- mean(x)\n",
    "}\n",
    "hist(xbar5)"
   ]
  },
  {
   "cell_type": "markdown",
   "metadata": {},
   "source": [
    "## Standard errors for sampling distributions"
   ]
  },
  {
   "cell_type": "code",
   "execution_count": null,
   "metadata": {},
   "outputs": [],
   "source": [
    "print(sd(survey$name_letters)/sqrt(5))\n",
    "print(sd(survey$name_letters)/sqrt(15))\n",
    "print(sd(survey$name_letters)/sqrt(25))"
   ]
  },
  {
   "cell_type": "markdown",
   "metadata": {},
   "source": [
    "# Conduct the Analysis"
   ]
  },
  {
   "cell_type": "code",
   "execution_count": null,
   "metadata": {},
   "outputs": [],
   "source": []
  }
 ],
 "metadata": {
  "kernelspec": {
   "display_name": "R",
   "language": "R",
   "name": "ir"
  },
  "language_info": {
   "codemirror_mode": "r",
   "file_extension": ".r",
   "mimetype": "text/x-r-source",
   "name": "R",
   "pygments_lexer": "r",
   "version": "3.6.1"
  }
 },
 "nbformat": 4,
 "nbformat_minor": 4
}
