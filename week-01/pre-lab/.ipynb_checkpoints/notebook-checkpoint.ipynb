{
 "cells": [
  {
   "cell_type": "markdown",
   "metadata": {},
   "source": [
    "### Import Stuff"
   ]
  },
  {
   "cell_type": "code",
   "execution_count": 1,
   "metadata": {},
   "outputs": [],
   "source": [
    "library(SDSFoundations,lib.loc = 'C:\\\\Program Files\\\\R\\\\R-3.6.1\\\\library')"
   ]
  },
  {
   "cell_type": "markdown",
   "metadata": {},
   "source": [
    "## Primary Research Question\n",
    "How many letters long is the typical UT student’s name?  \n",
    "How does our estimate change as we increase the size of our sample?"
   ]
  },
  {
   "cell_type": "code",
   "execution_count": 2,
   "metadata": {},
   "outputs": [],
   "source": [
    "survey <- StudentSurvey"
   ]
  },
  {
   "cell_type": "code",
   "execution_count": 4,
   "metadata": {},
   "outputs": [
    {
     "name": "stdout",
     "output_type": "stream",
     "text": [
      "'data.frame':\t379 obs. of  17 variables:\n",
      " $ ID            : int  1 2 3 4 5 6 7 8 9 10 ...\n",
      " $ gender        : Factor w/ 2 levels \"Female\",\"Male\": 2 1 1 2 1 1 1 1 1 1 ...\n",
      " $ age           : int  17 19 18 19 19 19 18 18 19 19 ...\n",
      " $ classification: Factor w/ 5 levels \"Freshman\",\"Junior\",..: 1 5 1 5 5 5 1 1 5 5 ...\n",
      " $ name_letters  : int  4 8 6 4 7 5 5 8 8 5 ...\n",
      " $ happy         : int  80 76 50 75 89 90 57 60 75 100 ...\n",
      " $ concerts      : int  2 15 3 0 1 1 0 0 1 4 ...\n",
      " $ hair_color    : Factor w/ 4 levels \"black\",\"blond\",..: 1 1 3 1 3 1 1 3 1 1 ...\n",
      " $ own_shoes     : int  108 42 6 10 13 12 12 6 15 25 ...\n",
      " $ greek         : Factor w/ 2 levels \"no\",\"yes\": 2 1 1 2 1 2 1 1 1 1 ...\n",
      " $ live_campus   : Factor w/ 2 levels \"no\",\"yes\": 2 1 2 1 1 1 2 2 2 1 ...\n",
      " $ roomates      : int  1 1 1 1 2 3 1 1 1 3 ...\n",
      " $ austin        : num  10 10 10 8 9 10 7 8 8 8 ...\n",
      " $ birth_month   : int  11 12 11 5 5 12 8 9 6 3 ...\n",
      " $ commute       : Factor w/ 6 levels \"bicycle\",\"bus\",..: 6 3 6 2 2 6 6 2 6 6 ...\n",
      " $ car           : Factor w/ 2 levels \"no\",\"yes\": 1 1 1 1 1 2 1 1 2 2 ...\n",
      " $ sport         : Factor w/ 2 levels \"no\",\"yes\": 2 1 1 1 1 1 1 1 1 2 ...\n"
     ]
    }
   ],
   "source": [
    "str(survey)"
   ]
  },
  {
   "cell_type": "code",
   "execution_count": null,
   "metadata": {},
   "outputs": [],
   "source": []
  }
 ],
 "metadata": {
  "kernelspec": {
   "display_name": "R",
   "language": "R",
   "name": "ir"
  },
  "language_info": {
   "codemirror_mode": "r",
   "file_extension": ".r",
   "mimetype": "text/x-r-source",
   "name": "R",
   "pygments_lexer": "r",
   "version": "3.6.1"
  }
 },
 "nbformat": 4,
 "nbformat_minor": 4
}
